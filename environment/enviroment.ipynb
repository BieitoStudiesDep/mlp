{
 "cells": [
  {
   "cell_type": "markdown",
   "metadata": {},
   "source": [
    "# Environment\n",
    "\n",
    "## install python pip\n",
    "\n",
    "```Bash\n",
    "sudo apt install python3-pip\n",
    "```\n"
   ]
  },
  {
   "cell_type": "code",
   "execution_count": 264,
   "metadata": {
    "vscode": {
     "languageId": "shellscript"
    }
   },
   "outputs": [
    {
     "name": "stdout",
     "output_type": "stream",
     "text": [
      "la version de python instalada:\n",
      "/bin/python3\n"
     ]
    },
    {
     "name": "stdout",
     "output_type": "stream",
     "text": [
      "ruta de los binarios de python :\n",
      "python3: /usr/bin/python3.8 /usr/bin/python3.8-config /usr/bin/python3 /usr/lib/python3.8 /usr/lib/python3.9 /usr/lib/python3 /etc/python3.8 /etc/python3 /usr/local/lib/python3.8 /usr/include/python3.8 /usr/share/python3 /home/bieitostudies/miniconda3/bin/python3.1 /home/bieitostudies/miniconda3/bin/python3.11 /home/bieitostudies/miniconda3/bin/python3.11-config /home/bieitostudies/miniconda3/bin/python3 /usr/share/man/man1/python3.1.gz\n"
     ]
    }
   ],
   "source": [
    "# install pip\n",
    "# sudo apt install python3-pip\n",
    "# verifique\n",
    "# nota para ejecutar un comando desde terminar añadir \"!\" como prefijo\n",
    "print(\"la version de python instalada:\")\n",
    "!which python3\n",
    "print(\"ruta de los binarios de python :\")\n",
    "!whereis python3"
   ]
  },
  {
   "cell_type": "markdown",
   "metadata": {},
   "source": [
    "## install miniconda\n",
    "\n",
    "```Bash\n",
    "mkdir -p ~/miniconda3\n",
    "wget https://repo.anaconda.com/miniconda/Miniconda3-latest-Linux-x86_64.sh -O ~/miniconda3/miniconda.sh\n",
    "bash ~/miniconda3/miniconda.sh -b -u -p ~/miniconda3\n",
    "rm -rf ~/miniconda3/miniconda.sh\n",
    " ~/miniconda3/bin/conda init bash\n",
    " ~/miniconda3/bin/conda init zsh\n",
    "\n",
    " source ~/.bashrc # update bash terminal\n",
    "```\n",
    "\n",
    "## config miniconda\n",
    "\n",
    "### create a new environment\n",
    "\n",
    "```Bash\n",
    "conda create --name env1-py311\n",
    "```\n",
    "\n",
    "### use environment\n",
    "\n",
    "```Bash\n",
    "conda activate env1-py311\n",
    "#instalar paquete\n",
    "conda install nombre_del_paquete\n",
    "# desstalar paquete\n",
    "conda remove nombre_del_paquete\n",
    "```\n"
   ]
  },
  {
   "cell_type": "markdown",
   "metadata": {},
   "source": [
    "## current env\n",
    "\n",
    "### env1-py311\n",
    "\n",
    "```bash\n",
    "# algoritmos de pia\n",
    "conda activate env1-py311\n",
    "conda install numpy # instala en el entorno coda actual\n",
    "conda install matplotlib # lib -\n",
    "conda install pandas # lib\n",
    "conda install scikit-learn\n",
    "\n",
    "```\n",
    "\n",
    "### env-py38\n",
    "\n",
    "```bash\n",
    "# algoritmos de mia\n",
    "# tensorflow solo admite hasta python 3.9\n",
    "conda create --name env-py38 python=3.8\n",
    "conda activate env-py38\n",
    "\n",
    "# tensorflow\n",
    "# Biblioteca de aprendizaje automático de código abierto desarrollada por Google que se utiliza principalmente para tareas de aprendizaje automático y desarrollo de modelos de inteligencia artificial.\n",
    "conda install tensorflow\n",
    "\n",
    "# numpy\n",
    "# Biblioteca para trabajar con arrays multidimensionales y matrices en Python.\n",
    "conda install numpy # arrays\n",
    "\n",
    "# matplotlib\n",
    "# Biblioteca para la creación de gráficos y visualizaciones de datos en Python.\n",
    "conda install matplotlib # lib - gráficos\n",
    "\n",
    "# pandas\n",
    "# Biblioteca de análisis de datos que proporciona estructuras de datos flexibles y herramientas para trabajar con datos estructurados.\n",
    "conda install pandas # lib DataFrames Secuencies\n",
    "\n",
    "# scikit-learn\n",
    "# Biblioteca de aprendizaje automático (machine learning) que proporciona herramientas simples y eficientes para el análisis predictivo de datos.\n",
    "conda install scikit-learn\n",
    "\n",
    "# pexpect\n",
    "# Biblioteca de Python para controlar aplicaciones externas (por ejemplo, emuladores de terminal) y automatizar tareas interactivas.\n",
    "conda install pexpect\n",
    "\n",
    "# seaborn\n",
    "# Biblioteca de visualización de datos basada en matplotlib que proporciona una interfaz de alto nivel para crear gráficos estadísticos atractivos y informativos.\n",
    "conda install seaborn # lib - gráficos\n",
    "\n",
    "# pillow\n",
    "# Biblioteca de procesamiento de imágenes que proporciona capacidades básicas de manipulación de imágenes, como abrir, guardar, rotar y cambiar el tamaño de las imágenes.\n",
    "conda install pillow # procesamiento de imágenes\n",
    "\n",
    "```\n"
   ]
  },
  {
   "cell_type": "markdown",
   "metadata": {},
   "source": [
    "### Forzar entorno\n",
    "\n",
    "```bash\n",
    "source env-py38/bin/activate  # Activar el entorno virtual\n",
    "pip install ipykernel          # Instalar el kernel IPython\n",
    "python -m ipykernel install --user --name=env-py38  # Instalar el kernel en Jupyter\n",
    "```\n"
   ]
  },
  {
   "cell_type": "markdown",
   "metadata": {},
   "source": [
    "## Conda comands\n"
   ]
  },
  {
   "cell_type": "code",
   "execution_count": 265,
   "metadata": {
    "vscode": {
     "languageId": "shellscript"
    }
   },
   "outputs": [
    {
     "name": "stdout",
     "output_type": "stream",
     "text": [
      "\n",
      "     active environment : base\n",
      "    active env location : /home/bieitostudies/miniconda3\n",
      "            shell level : 1\n",
      "       user config file : /home/bieitostudies/.condarc\n",
      " populated config files : \n",
      "          conda version : 24.1.1\n",
      "    conda-build version : not installed\n",
      "         python version : 3.11.5.final.0\n",
      "                 solver : libmamba (default)\n",
      "       virtual packages : __archspec=1=skylake\n",
      "                          __conda=24.1.1=0\n",
      "                          __cuda=11.4=0\n",
      "                          __glibc=2.31=0\n",
      "                          __linux=5.15.0=0\n",
      "                          __unix=0=0\n",
      "       base environment : /home/bieitostudies/miniconda3  (writable)\n",
      "      conda av data dir : /home/bieitostudies/miniconda3/etc/conda\n",
      "  conda av metadata url : None\n",
      "           channel URLs : https://repo.anaconda.com/pkgs/main/linux-64\n",
      "                          https://repo.anaconda.com/pkgs/main/noarch\n",
      "                          https://repo.anaconda.com/pkgs/r/linux-64\n",
      "                          https://repo.anaconda.com/pkgs/r/noarch\n",
      "          package cache : /home/bieitostudies/miniconda3/pkgs\n",
      "                          /home/bieitostudies/.conda/pkgs\n",
      "       envs directories : /home/bieitostudies/miniconda3/envs\n",
      "                          /home/bieitostudies/.conda/envs\n",
      "               platform : linux-64\n",
      "             user-agent : conda/24.1.1 requests/2.31.0 CPython/3.11.5 Linux/5.15.0-102-generic ubuntu/20.04.6 glibc/2.31 solver/libmamba conda-libmamba-solver/23.12.0 libmambapy/1.5.3\n",
      "                UID:GID : 1008:1008\n",
      "             netrc file : None\n",
      "           offline mode : False\n",
      "\n",
      "\n"
     ]
    }
   ],
   "source": [
    "!conda info"
   ]
  },
  {
   "cell_type": "code",
   "execution_count": 266,
   "metadata": {},
   "outputs": [
    {
     "name": "stdout",
     "output_type": "stream",
     "text": [
      "matplotlib-inline         0.1.6              pyhd8ed1ab_0    conda-forge\n",
      "pexpect                   4.9.0              pyhd8ed1ab_0    conda-forge\n"
     ]
    }
   ],
   "source": [
    "# check libraries\n",
    "\n",
    "!conda list | grep -E \"tensorflow|numpy|matplotlib|pandas|scikit-learn|pexpect|seaborn|pillow\""
   ]
  },
  {
   "cell_type": "code",
   "execution_count": 267,
   "metadata": {},
   "outputs": [
    {
     "name": "stdout",
     "output_type": "stream",
     "text": [
      "matplotlib-inline         0.1.6              pyhd8ed1ab_0    conda-forge\n",
      "pexpect                   4.9.0              pyhd8ed1ab_0    conda-forge\n",
      "\n"
     ]
    }
   ],
   "source": [
    "# check libraries\n",
    "\n",
    "# en bash\n",
    "# conda activate env-py38 ; conda list | grep -E \"tensorflow|numpy|matplotlib|pandas|scikit-learn|pexpect|seaborn|pillow\"\n",
    "import subprocess\n",
    "\n",
    "shell = \"bash\"\n",
    "env = \"env-py38\"\n",
    "libs = \"tensorflow|numpy|matplotlib|pandas|scikit-learn|pexpect|seaborn|pillow\"\n",
    "process = subprocess.Popen(\n",
    "    f\"conda activate {env} | conda list | grep -E '{libs}'\",\n",
    "    shell=True,\n",
    "    stdout=subprocess.PIPE,\n",
    "    stderr=subprocess.PIPE,\n",
    ")\n",
    "output, error = process.communicate()\n",
    "\n",
    "if output:\n",
    "    print(output.decode())\n",
    "else:\n",
    "    print(error.decode())"
   ]
  },
  {
   "cell_type": "markdown",
   "metadata": {},
   "source": [
    "## VSC extensions\n",
    "\n",
    "- productivity\n",
    "\n",
    "  - vsc extension `todo-tree` // productivity\n",
    "  - vsc extension `Code Spell Checker` // productivity\n",
    "  - vsc extension `vscode-drawio` / productivity\n",
    "\n",
    "- python conda jupyter\n",
    "\n",
    "  - vsc extension `conda-cheatsheet` // python env\n",
    "  - vsc extension `jupyter extension pack` // notebooks\n",
    "  - vsc extension `python extension pack` // notebooks\n",
    "  - vsc extension `python-environment-manager` // notebooks\n",
    "  - vsc extension `ruff` // python linter\n",
    "\n",
    "- markdown\n",
    "  - vsc extension `vscode-markdownlint` // md linter\n",
    "  - vsc extension `markdown-preview-enhanced` // md\n",
    "  - vsc extension `markdown-all-in-one` // md\n",
    "  - vsc extension`bierner.markdown-shiki` // md\n"
   ]
  },
  {
   "cell_type": "code",
   "execution_count": 268,
   "metadata": {
    "vscode": {
     "languageId": "powershell"
    }
   },
   "outputs": [
    {
     "name": "stdout",
     "output_type": "stream",
     "text": [
      "[vsc extension productividad:]\n",
      "gruntfuggly.todo-tree@0.0.226\n",
      "hediet.vscode-drawio@1.6.6\n",
      "njpwerner.autodocstring@0.6.1\n",
      "streetsidesoftware.code-spell-checker@3.0.1\n",
      "streetsidesoftware.code-spell-checker-spanish@2.3.2\n",
      "\n",
      "\n",
      "[vsc extension python:]\n",
      "donjayamanne.python-environment-manager@1.2.4\n",
      "donjayamanne.python-extension-pack@1.7.0\n",
      "jojoee.conda-cheatsheet@1.2.8\n",
      "kevinrose.vsc-python-indent@1.18.0\n",
      "ms-python.debugpy@2024.2.0\n",
      "ms-python.isort@2023.10.1\n",
      "ms-python.python@2024.2.1\n",
      "ms-python.vscode-pylance@2024.3.1\n",
      "\n",
      "\n",
      "[vsc extension markdown:]\n",
      "bierner.markdown-shiki@0.1.1\n",
      "davidanson.vscode-markdownlint@0.54.0\n",
      "shd101wyy.markdown-preview-enhanced@0.8.13\n",
      "yzhang.markdown-all-in-one@3.6.2\n"
     ]
    }
   ],
   "source": [
    "print(\"[vsc extension productividad:]\")\n",
    "!code --list-extensions --show-versions | grep -E 'todo|drawio|spell'\n",
    "print(\"\\n\\n[vsc extension python:]\")\n",
    "!code --list-extensions --show-versions | grep -E 'notebook|conda|python| ruff|jupiter'\n",
    "print(\"\\n\\n[vsc extension markdown:]\")\n",
    "!code --list-extensions --show-versions | grep -E 'markdown'"
   ]
  }
 ],
 "metadata": {
  "kernelspec": {
   "display_name": "Python 3",
   "language": "python",
   "name": "python3"
  },
  "language_info": {
   "codemirror_mode": {
    "name": "ipython",
    "version": 3
   },
   "file_extension": ".py",
   "mimetype": "text/x-python",
   "name": "python",
   "nbconvert_exporter": "python",
   "pygments_lexer": "ipython3",
   "version": "3.8.10"
  }
 },
 "nbformat": 4,
 "nbformat_minor": 2
}
