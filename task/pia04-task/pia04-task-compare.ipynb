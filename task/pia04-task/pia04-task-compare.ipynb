{
 "cells": [
  {
   "cell_type": "markdown",
   "metadata": {},
   "source": [
    "# Compare\n"
   ]
  },
  {
   "cell_type": "code",
   "execution_count": 1,
   "metadata": {},
   "outputs": [],
   "source": [
    "# import data\n",
    "import numpy as np\n",
    "import pandas as pd\n",
    "from functions.firstOheSequential import FirstOheSequential\n",
    "from functions.firstOhePipe import FirstOhePipe\n",
    "from functions.splitDataToTrain import SplitDataToTrain"
   ]
  },
  {
   "cell_type": "markdown",
   "metadata": {},
   "source": []
  },
  {
   "cell_type": "code",
   "execution_count": 2,
   "metadata": {},
   "outputs": [
    {
     "name": "stdout",
     "output_type": "stream",
     "text": [
      "== OHE de manera secuencial ==\n",
      "[Objetivo]\n",
      "\t1.Cambiar los valores no numéricos por valores numéricos \n",
      "\t2.Cambiar los valores nulos por un valor representativo \n",
      "Verifique Values Not Null and Not Number in DataFrame\n",
      "\tThere are values null: True in columns ['total_bedrooms']\n",
      "\tThere are values not number: True in columns ['total_bedrooms', 'ocean_proximity']\n",
      " - Guardamos el indice de los valores nulos\n",
      "\tlos usaremos para validar si la imputación de los valores nulos es correcta\n",
      " - Aplicamos OHE a las columnas de valores no numéricos para trasformarlos en numéricos \n",
      " - Concatenamos las columnas donde aplicamos OHE con el resto del X_Train\n",
      " - Estandarizamos valores : StandardScaler --> X_train_scaled_and_ohe \n",
      " - Calculamos  k_value de manera manera estandarizada\n",
      " - Imputamos valores :KNNImputer usando k_value y X_train_scaled_and_ohe\n",
      " - verificamos\n"
     ]
    }
   ],
   "source": [
    "## assigned data\n",
    "df_housing = pd.read_csv(\"./data/housing.csv\")\n",
    "X_train, X_test, y_train, y_test = SplitDataToTrain(df_housing)\n",
    "\n",
    "null_rows_idx = X_train.isnull().any(axis=1)\n",
    "df1 = FirstOheSequential(X_train.copy())\n",
    "df2 = FirstOhePipe(X_train.copy())\n",
    "res = {}"
   ]
  },
  {
   "cell_type": "markdown",
   "metadata": {},
   "source": [
    "<div class=\"alert alert-block alert-danger\">\n",
    "<b>❗Important:</b></br> important reset index of DF</div>\n"
   ]
  },
  {
   "cell_type": "code",
   "execution_count": 3,
   "metadata": {},
   "outputs": [],
   "source": [
    "df1 = df1.reset_index(drop=True)\n",
    "df2 = df2.reset_index(drop=True)"
   ]
  },
  {
   "cell_type": "code",
   "execution_count": 4,
   "metadata": {},
   "outputs": [
    {
     "data": {
      "text/plain": [
       "{'df_size_eq': True}"
      ]
     },
     "execution_count": 4,
     "metadata": {},
     "output_type": "execute_result"
    }
   ],
   "source": [
    "df_size_eq = df1.shape == df2.shape\n",
    "res[\"df_size_eq\"] = df_size_eq\n",
    "res"
   ]
  },
  {
   "cell_type": "code",
   "execution_count": 5,
   "metadata": {},
   "outputs": [
    {
     "data": {
      "text/plain": [
       "{'df_size_eq': True, 'df_data_type_eq': True}"
      ]
     },
     "execution_count": 5,
     "metadata": {},
     "output_type": "execute_result"
    }
   ],
   "source": [
    "df_data_type_eq = df1.dtypes.equals(df2.dtypes)\n",
    "res[\"df_data_type_eq\"] = df_data_type_eq\n",
    "res"
   ]
  },
  {
   "cell_type": "code",
   "execution_count": 6,
   "metadata": {},
   "outputs": [
    {
     "data": {
      "text/plain": [
       "{'df_size_eq': True, 'df_data_type_eq': True, 'df_columns_eq': True}"
      ]
     },
     "execution_count": 6,
     "metadata": {},
     "output_type": "execute_result"
    }
   ],
   "source": [
    "df_columns_eq = df1.columns.equals(df2.columns)\n",
    "res[\"df_columns_eq\"] = df_columns_eq\n",
    "res"
   ]
  },
  {
   "cell_type": "code",
   "execution_count": 7,
   "metadata": {},
   "outputs": [
    {
     "data": {
      "text/plain": [
       "{'df_size_eq': True,\n",
       " 'df_data_type_eq': True,\n",
       " 'df_columns_eq': True,\n",
       " 'df_rows_eq': True}"
      ]
     },
     "execution_count": 7,
     "metadata": {},
     "output_type": "execute_result"
    }
   ],
   "source": [
    "df_rows_eq = df1.index.equals(df2.index)\n",
    "res[\"df_rows_eq\"] = df_rows_eq\n",
    "res"
   ]
  },
  {
   "cell_type": "markdown",
   "metadata": {},
   "source": [
    "<div class=\"alert alert-block alert-info\">\n",
    "<b>ℹ Info:</b></br>\n",
    " Al analizar dos valores nos damos cuenta que se empiezan a diferenciar a partir del 8 decimal\n",
    " </br>\n",
    "por lo cual si queremos compararlos debemos redondeados a 8 decimales</p>\n",
    "</div>\n"
   ]
  },
  {
   "cell_type": "code",
   "execution_count": 8,
   "metadata": {},
   "outputs": [
    {
     "data": {
      "text/plain": [
       "{'df_size_eq': True,\n",
       " 'df_data_type_eq': True,\n",
       " 'df_columns_eq': True,\n",
       " 'df_rows_eq': True,\n",
       " 'df_value_00_eq': False}"
      ]
     },
     "execution_count": 8,
     "metadata": {},
     "output_type": "execute_result"
    }
   ],
   "source": [
    "df_value_00_eq = (df1.iloc[0, 0]) == (df2.iloc[0, 0])\n",
    "res[\"df_value_00_eq\"] = df_value_00_eq\n",
    "res"
   ]
  },
  {
   "cell_type": "code",
   "execution_count": 9,
   "metadata": {},
   "outputs": [
    {
     "data": {
      "text/plain": [
       "{'df_size_eq': True,\n",
       " 'df_data_type_eq': True,\n",
       " 'df_columns_eq': True,\n",
       " 'df_rows_eq': True,\n",
       " 'df_value_00_eq': False,\n",
       " 'df_value_00_eq_round8': True}"
      ]
     },
     "execution_count": 9,
     "metadata": {},
     "output_type": "execute_result"
    }
   ],
   "source": [
    "df_value_00_eq_round8 = (df1.iloc[0, 0].round(8)) == (df2.iloc[0, 0].round(8))\n",
    "res[\"df_value_00_eq_round8\"] = df_value_00_eq_round8\n",
    "res"
   ]
  },
  {
   "cell_type": "code",
   "execution_count": 10,
   "metadata": {},
   "outputs": [
    {
     "data": {
      "text/plain": [
       "{'df_size_eq': True,\n",
       " 'df_data_type_eq': True,\n",
       " 'df_columns_eq': True,\n",
       " 'df_rows_eq': True,\n",
       " 'df_value_00_eq': False,\n",
       " 'df_value_00_eq_round8': True,\n",
       " 'df_values_eq': False}"
      ]
     },
     "execution_count": 10,
     "metadata": {},
     "output_type": "execute_result"
    }
   ],
   "source": [
    "df1_reset = df1.reset_index(drop=True)\n",
    "df2_reset = df2.reset_index(drop=True)\n",
    "df_values_eq = (df1_reset == df2_reset).all().all()\n",
    "res[\"df_values_eq\"] = df_values_eq\n",
    "res"
   ]
  },
  {
   "cell_type": "code",
   "execution_count": 11,
   "metadata": {},
   "outputs": [
    {
     "data": {
      "text/plain": [
       "{'df_size_eq': True,\n",
       " 'df_data_type_eq': True,\n",
       " 'df_columns_eq': True,\n",
       " 'df_rows_eq': True,\n",
       " 'df_value_00_eq': False,\n",
       " 'df_value_00_eq_round8': True,\n",
       " 'df_values_eq': False,\n",
       " 'df_values_eq_round8': True}"
      ]
     },
     "execution_count": 11,
     "metadata": {},
     "output_type": "execute_result"
    }
   ],
   "source": [
    "df_values_eq_round8 = (df1_reset.round(8) == df2_reset.round(8)).all().all()\n",
    "res[\"df_values_eq_round8\"] = df_values_eq_round8\n",
    "res"
   ]
  },
  {
   "cell_type": "markdown",
   "metadata": {},
   "source": [
    "[Compare_code](functions/dfCompare.py)\n"
   ]
  }
 ],
 "metadata": {
  "kernelspec": {
   "display_name": "env-py38",
   "language": "python",
   "name": "python3"
  },
  "language_info": {
   "codemirror_mode": {
    "name": "ipython",
    "version": 3
   },
   "file_extension": ".py",
   "mimetype": "text/x-python",
   "name": "python",
   "nbconvert_exporter": "python",
   "pygments_lexer": "ipython3",
   "version": "3.8.18"
  }
 },
 "nbformat": 4,
 "nbformat_minor": 2
}
