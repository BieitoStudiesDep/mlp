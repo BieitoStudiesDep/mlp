{
 "cells": [
  {
   "cell_type": "markdown",
   "metadata": {},
   "source": [
    "# Compare\n"
   ]
  },
  {
   "cell_type": "code",
   "execution_count": 56,
   "metadata": {},
   "outputs": [],
   "source": [
    "# import data\n",
    "import pandas as pd\n",
    "\n",
    "## assigned data\n",
    "dc = pd.read_csv(\"./data/housing.csv\")"
   ]
  },
  {
   "cell_type": "code",
   "execution_count": 57,
   "metadata": {},
   "outputs": [
    {
     "name": "stdout",
     "output_type": "stream",
     "text": [
      "          longitude      latitude  housing_median_age   total_rooms  \\\n",
      "count  20640.000000  20640.000000        20640.000000  20640.000000   \n",
      "mean    -119.569704     35.631861           28.639486   2635.763081   \n",
      "std        2.003532      2.135952           12.585558   2181.615252   \n",
      "min     -124.350000     32.540000            1.000000      2.000000   \n",
      "25%     -121.800000     33.930000           18.000000   1447.750000   \n",
      "50%     -118.490000     34.260000           29.000000   2127.000000   \n",
      "75%     -118.010000     37.710000           37.000000   3148.000000   \n",
      "max     -114.310000     41.950000           52.000000  39320.000000   \n",
      "\n",
      "       total_bedrooms    population    households  median_income  \\\n",
      "count    20433.000000  20640.000000  20640.000000   20640.000000   \n",
      "mean       537.870553   1425.476744    499.539680       3.870671   \n",
      "std        421.385070   1132.462122    382.329753       1.899822   \n",
      "min          1.000000      3.000000      1.000000       0.499900   \n",
      "25%        296.000000    787.000000    280.000000       2.563400   \n",
      "50%        435.000000   1166.000000    409.000000       3.534800   \n",
      "75%        647.000000   1725.000000    605.000000       4.743250   \n",
      "max       6445.000000  35682.000000   6082.000000      15.000100   \n",
      "\n",
      "       median_house_value  \n",
      "count        20640.000000  \n",
      "mean        206855.816909  \n",
      "std         115395.615874  \n",
      "min          14999.000000  \n",
      "25%         119600.000000  \n",
      "50%         179700.000000  \n",
      "75%         264725.000000  \n",
      "max         500001.000000  \n"
     ]
    }
   ],
   "source": [
    "dc1 = dc.copy()\n",
    "dc2 = dc.copy()\n",
    "\n",
    "print(dc1.describe())"
   ]
  },
  {
   "cell_type": "code",
   "execution_count": 58,
   "metadata": {},
   "outputs": [
    {
     "name": "stdout",
     "output_type": "stream",
     "text": [
      "dc1.iloc[0, 0] -122.23\n",
      "-------------\n",
      "dc1.iloc[1, 0] -122.22\n",
      "-------------\n",
      "dc1.iloc[0, 1] 37.88\n",
      "-------------\n",
      "dc1.iloc[0]\n",
      " longitude            -122.23\n",
      "latitude               37.88\n",
      "housing_median_age      41.0\n",
      "total_rooms            880.0\n",
      "total_bedrooms         129.0\n",
      "Name: 0, dtype: object\n",
      "-------------\n",
      "dc1.iloc[1]\n",
      " longitude            -122.22\n",
      "latitude               37.86\n",
      "housing_median_age      21.0\n",
      "total_rooms           7099.0\n",
      "total_bedrooms        1106.0\n",
      "Name: 1, dtype: object\n",
      "-------------\n",
      "dc1.iloc[:0]\n",
      " Empty DataFrame\n",
      "Columns: [longitude, latitude, housing_median_age, total_rooms, total_bedrooms, population, households, median_income, median_house_value, ocean_proximity]\n",
      "Index: []\n",
      "-------------\n",
      "dc1.iloc[:0]\n",
      "    longitude  latitude  housing_median_age  total_rooms  total_bedrooms  \\\n",
      "0    -122.23     37.88                41.0        880.0           129.0   \n",
      "\n",
      "   population  households  median_income  median_house_value ocean_proximity  \n",
      "0       322.0       126.0         8.3252            452600.0        NEAR BAY  \n"
     ]
    }
   ],
   "source": [
    "print(\"dc1.iloc[0, 0]\", dc1.iloc[0, 0])\n",
    "print(\"-------------\")\n",
    "print(\"dc1.iloc[1, 0]\", dc1.iloc[1, 0])\n",
    "print(\"-------------\")\n",
    "print(\"dc1.iloc[0, 1]\", dc1.iloc[0, 1])\n",
    "print(\"-------------\")\n",
    "print(\"dc1.iloc[0]\\n\", dc1.iloc[0].head())\n",
    "print(\"-------------\")\n",
    "print(\"dc1.iloc[1]\\n\", dc1.iloc[1].head())\n",
    "print(\"-------------\")\n",
    "print(\"dc1.iloc[:0]\\n\", dc1.iloc[:0])\n",
    "print(\"-------------\")\n",
    "print(\"dc1.iloc[:0]\\n\", dc1.iloc[:1])"
   ]
  },
  {
   "cell_type": "code",
   "execution_count": 59,
   "metadata": {},
   "outputs": [],
   "source": []
  },
  {
   "cell_type": "markdown",
   "metadata": {},
   "source": [
    "# Compare Series\n"
   ]
  },
  {
   "cell_type": "code",
   "execution_count": 60,
   "metadata": {},
   "outputs": [
    {
     "name": "stdout",
     "output_type": "stream",
     "text": [
      "-------------\n",
      "dc1_pos00 <class 'numpy.float64'>\n",
      "dc1_pos00 -122.23\n",
      "-------------\n",
      "dc1_col0 <class 'pandas.core.series.Series'>\n",
      "dc1_col0 longitude              -122.23\n",
      "latitude                 37.88\n",
      "housing_median_age        41.0\n",
      "total_rooms              880.0\n",
      "total_bedrooms           129.0\n",
      "population               322.0\n",
      "households               126.0\n",
      "median_income           8.3252\n",
      "median_house_value    452600.0\n",
      "ocean_proximity       NEAR BAY\n",
      "Name: 0, dtype: object\n",
      "-------------\n",
      "dc1_row0 <class 'pandas.core.series.Series'>\n",
      "dc1_row0 0       -122.23\n",
      "1       -122.22\n",
      "2       -122.24\n",
      "3       -122.25\n",
      "4       -122.25\n",
      "          ...  \n",
      "20635   -121.09\n",
      "20636   -121.21\n",
      "20637   -121.22\n",
      "20638   -121.32\n",
      "20639   -121.24\n",
      "Name: longitude, Length: 20640, dtype: float64\n"
     ]
    }
   ],
   "source": [
    "# get first row by returning series\n",
    "dc1_col0 = dc1.iloc[0]\n",
    "dc2_col0 = dc2.iloc[0]\n",
    "\n",
    "# la fila [:0] son los encabezados\n",
    "# # using columns[] method\n",
    "# # print(df[df.columns[0]])\n",
    "# # get first column by returning dataframe\n",
    "# # dc1_row0 = dc1.iloc[:, :1]\n",
    "# get first column by returning series\n",
    "dc1_row0 = dc1.iloc[:, 0]\n",
    "dc2_row0 = dc2.iloc[:, 0]\n",
    "\n",
    "\n",
    "print(\"-------------\")\n",
    "print(\"dc1_col0\", type(dc1_col0))\n",
    "print(\"dc1_col0\", dc1_col0)\n",
    "print(\"-------------\")\n",
    "print(\"dc1_row0\", type(dc1_row0))\n",
    "print(\"dc1_row0\", dc1_row0)"
   ]
  },
  {
   "cell_type": "markdown",
   "metadata": {},
   "source": []
  },
  {
   "cell_type": "markdown",
   "metadata": {},
   "source": [
    "# Compare Numpy\n"
   ]
  },
  {
   "cell_type": "code",
   "execution_count": 61,
   "metadata": {},
   "outputs": [
    {
     "name": "stdout",
     "output_type": "stream",
     "text": [
      "type <class 'numpy.ndarray'> value\n",
      " [[-122.23 37.88 41.0 ... 8.3252 452600.0 'NEAR BAY']\n",
      " [-122.22 37.86 21.0 ... 8.3014 358500.0 'NEAR BAY']\n",
      " [-122.24 37.85 52.0 ... 7.2574 352100.0 'NEAR BAY']\n",
      " ...\n",
      " [-121.22 39.43 17.0 ... 1.7 92300.0 'INLAND']\n",
      " [-121.32 39.43 18.0 ... 1.8672 84700.0 'INLAND']\n",
      " [-121.24 39.37 16.0 ... 2.3886 89400.0 'INLAND']]\n"
     ]
    }
   ],
   "source": [
    "# deprecate pandas.DataFrame.values\n",
    "# print(\"dc1.values]\\n\", dc1.values)\n",
    "np1 = dc1.to_numpy()\n",
    "np2 = dc2.to_numpy()\n",
    "print(\"type\", type(np1), \"value\\n\", np1)"
   ]
  },
  {
   "cell_type": "markdown",
   "metadata": {},
   "source": [
    "# Compare Decimals\n"
   ]
  },
  {
   "cell_type": "code",
   "execution_count": null,
   "metadata": {},
   "outputs": [],
   "source": [
    "dc1_pos00 = dc1.iloc[0, 0]\n",
    "dc2_pos00 = dc2.iloc[0, 0]\n",
    "\n",
    "print(\"-------------\")\n",
    "print(\"dc1_pos00\", type(dc1_pos00))\n",
    "print(\"dc1_pos00\", dc1_pos00)"
   ]
  }
 ],
 "metadata": {
  "kernelspec": {
   "display_name": "env-py38",
   "language": "python",
   "name": "python3"
  },
  "language_info": {
   "codemirror_mode": {
    "name": "ipython",
    "version": 3
   },
   "file_extension": ".py",
   "mimetype": "text/x-python",
   "name": "python",
   "nbconvert_exporter": "python",
   "pygments_lexer": "ipython3",
   "version": "3.8.18"
  }
 },
 "nbformat": 4,
 "nbformat_minor": 2
}
