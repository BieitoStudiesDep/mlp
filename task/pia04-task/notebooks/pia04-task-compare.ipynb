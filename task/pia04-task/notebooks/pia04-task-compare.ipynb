{
 "cells": [
  {
   "cell_type": "markdown",
   "metadata": {},
   "source": [
    "# Compare\n"
   ]
  },
  {
   "cell_type": "code",
   "execution_count": 56,
   "metadata": {},
   "outputs": [],
   "source": [
    "# import data\n",
    "import pandas as pd\n",
    "\n",
    "## assigned data\n",
    "dc = pd.read_csv(\"./data/housing.csv\")"
   ]
  },
  {
   "cell_type": "code",
   "execution_count": 57,
   "metadata": {},
   "outputs": [
    {
     "name": "stdout",
     "output_type": "stream",
     "text": [
      "          longitude      latitude  housing_median_age   total_rooms  \\\n",
      "count  20640.000000  20640.000000        20640.000000  20640.000000   \n",
      "mean    -119.569704     35.631861           28.639486   2635.763081   \n",
      "std        2.003532      2.135952           12.585558   2181.615252   \n",
      "min     -124.350000     32.540000            1.000000      2.000000   \n",
      "25%     -121.800000     33.930000           18.000000   1447.750000   \n",
      "50%     -118.490000     34.260000           29.000000   2127.000000   \n",
      "75%     -118.010000     37.710000           37.000000   3148.000000   \n",
      "max     -114.310000     41.950000           52.000000  39320.000000   \n",
      "\n",
      "       total_bedrooms    population    households  median_income  \\\n",
      "count    20433.000000  20640.000000  20640.000000   20640.000000   \n",
      "mean       537.870553   1425.476744    499.539680       3.870671   \n",
      "std        421.385070   1132.462122    382.329753       1.899822   \n",
      "min          1.000000      3.000000      1.000000       0.499900   \n",
      "25%        296.000000    787.000000    280.000000       2.563400   \n",
      "50%        435.000000   1166.000000    409.000000       3.534800   \n",
      "75%        647.000000   1725.000000    605.000000       4.743250   \n",
      "max       6445.000000  35682.000000   6082.000000      15.000100   \n",
      "\n",
      "       median_house_value  \n",
      "count        20640.000000  \n",
      "mean        206855.816909  \n",
      "std         115395.615874  \n",
      "min          14999.000000  \n",
      "25%         119600.000000  \n",
      "50%         179700.000000  \n",
      "75%         264725.000000  \n",
      "max         500001.000000  \n"
     ]
    }
   ],
   "source": [
    "dc1 = dc.copy()\n",
    "dc2 = dc.copy()\n",
    "\n",
    "print(dc1.describe())"
   ]
  },
  {
   "cell_type": "code",
   "execution_count": null,
   "metadata": {},
   "outputs": [],
   "source": [
    "def media_precision_decimales_by_Df(df1, df2):\n",
    "    precision_decimales = []\n",
    "    # Iterar sobre las filas y comparar los valores de decimales\n",
    "    for index, (fila1, fila2) in enumerate(zip(df1.iterrows(), df2.iterrows())):\n",
    "        for col in df1.select_dtypes(include=[\"float64\"]).columns:\n",
    "            # Comprobar si los valores de los decimales son iguales\n",
    "            if fila1[1][col] == fila2[1][col]:\n",
    "                # Calcular la precisión de los decimales\n",
    "                precision_decimales.append(len(str(fila1[1][col]).split(\".\")[1]))\n",
    "\n",
    "    # Calcular la media de la precisión de los decimales\n",
    "    if precision_decimales:\n",
    "        media = sum(precision_decimales) / len(precision_decimales)\n",
    "    else:\n",
    "        media = 0\n",
    "\n",
    "    return media\n",
    "\n",
    "\n",
    "def media_precision_decimales_by_index(df1, df2, indices):\n",
    "    precision_decimales = []\n",
    "\n",
    "    # Iterar sobre los índices proporcionados\n",
    "    for idx in indices:\n",
    "        # Obtener las filas correspondientes en los DataFrames\n",
    "        fila1 = df1.loc[idx]\n",
    "        fila2 = df2.loc[idx]\n",
    "\n",
    "        # Iterar sobre las columnas numéricas\n",
    "        for col in df1.select_dtypes(include=[\"float64\"]).columns:\n",
    "            # Comprobar si los valores de los decimales son iguales\n",
    "            if fila1[col] == fila2[col]:\n",
    "                # Calcular la precisión de los decimales\n",
    "                precision_decimales.append(len(str(fila1[col]).split(\".\")[1]))\n",
    "\n",
    "    # Calcular la media de la precisión de los decimales\n",
    "    if precision_decimales:\n",
    "        media = sum(precision_decimales) / len(precision_decimales)\n",
    "    else:\n",
    "        media = 0\n",
    "\n",
    "    return media"
   ]
  },
  {
   "cell_type": "code",
   "execution_count": null,
   "metadata": {},
   "outputs": [],
   "source": [
    "from typing import List\n",
    "\n",
    "\n",
    "def compareDf(\n",
    "    df1: pd.DataFrame,\n",
    "    df2: pd.DataFrame,\n",
    "    onehotencoder_column_indexs: List[int] = None,\n",
    "    index_null_values: List[int] = None,\n",
    ") -> dict:\n",
    "    result = {\n",
    "        \"df-size-eq\": df1.shape == df2.shape,\n",
    "        \"df-dataType-eq\": df1.dtypes.equals(df2.dtypes),\n",
    "        \"df-columns-eq\": df1.columns.equals(df2.columns),\n",
    "        \"df-rows-eq\": df1.index.equals(df2.index),\n",
    "        \"df-values-eq\": (df1 == df2).all().all(),\n",
    "    }\n",
    "\n",
    "    if onehotencoder_column_indexs is not None:\n",
    "        result[\"df-decimals-onehotencoder-values-media\"] = (\n",
    "            media_precision_decimales_by_index(\n",
    "                df1.iloc[:, onehotencoder_column_indexs],\n",
    "                df2.iloc[:, onehotencoder_column_indexs],\n",
    "            )\n",
    "        )\n",
    "\n",
    "    if index_null_values is not None:\n",
    "        result[\"df-decimals-index-null-values-media\"] = (\n",
    "            media_precision_decimales_by_index(df1, df2, index_null_values)\n",
    "        )\n",
    "\n",
    "    return result"
   ]
  },
  {
   "cell_type": "markdown",
   "metadata": {},
   "source": []
  }
 ],
 "metadata": {
  "kernelspec": {
   "display_name": "env-py38",
   "language": "python",
   "name": "python3"
  },
  "language_info": {
   "codemirror_mode": {
    "name": "ipython",
    "version": 3
   },
   "file_extension": ".py",
   "mimetype": "text/x-python",
   "name": "python",
   "nbconvert_exporter": "python",
   "pygments_lexer": "ipython3",
   "version": "3.8.18"
  }
 },
 "nbformat": 4,
 "nbformat_minor": 2
}
